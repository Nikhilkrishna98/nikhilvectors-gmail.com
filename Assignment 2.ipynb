{
 "cells": [
  {
   "cell_type": "markdown",
   "metadata": {},
   "source": [
    "# Assignment 2"
   ]
  },
  {
   "cell_type": "markdown",
   "metadata": {},
   "source": [
    "Task 1 question 1"
   ]
  },
  {
   "cell_type": "code",
   "execution_count": null,
   "metadata": {},
   "outputs": [],
   "source": [
    "def my_reduce(block):\n",
    "    total = 0\n",
    "    if len(block)>1:\n",
    "        for i in block:\n",
    "            total = total+i\n",
    "        return total    \n",
    "    \n",
    "    "
   ]
  },
  {
   "cell_type": "code",
   "execution_count": null,
   "metadata": {},
   "outputs": [],
   "source": [
    "block1= list(range(1200,1500))\n",
    "block = my_reduce(block1)\n",
    "block"
   ]
  },
  {
   "cell_type": "markdown",
   "metadata": {},
   "source": [
    "question 1.2"
   ]
  },
  {
   "cell_type": "code",
   "execution_count": null,
   "metadata": {},
   "outputs": [],
   "source": [
    "def negative(i):\n",
    "    if i <= 0:\n",
    "        return True\n",
    "    \n",
    "def my_filter(set1):    \n",
    "    negative_list = []\n",
    "    for i in set1:\n",
    "        set1 = negative(i)\n",
    "        if set1 == True:\n",
    "            negative_list.append(i)\n",
    "    return negative_list      "
   ]
  },
  {
   "cell_type": "code",
   "execution_count": null,
   "metadata": {},
   "outputs": [],
   "source": [
    "set1 =[]\n",
    "set2 = [-2,5,-8,0,-1,2,7]\n",
    "set1 = my_filter(set2)\n",
    "set1"
   ]
  },
  {
   "cell_type": "markdown",
   "metadata": {},
   "source": [
    "question 2 list comprehension"
   ]
  },
  {
   "cell_type": "code",
   "execution_count": null,
   "metadata": {},
   "outputs": [],
   "source": [
    "word = 'ACADGILD'\n",
    "redum = [char for char in word]\n",
    "\n",
    "redum"
   ]
  },
  {
   "cell_type": "code",
   "execution_count": null,
   "metadata": {},
   "outputs": [],
   "source": [
    "load_lst = 'xyz'\n",
    "\n",
    "blunt = [char*n for char in load_lst for n in range(1,5)]\n",
    "blunt"
   ]
  },
  {
   "cell_type": "code",
   "execution_count": null,
   "metadata": {},
   "outputs": [],
   "source": [
    "word_a = 'xyz'\n",
    "\n",
    "word_b = [n*1 for n in word_a]+[n*2 for n in word_a]+[n*3 for n in word_a]+[n*4 for n in word_a]\n",
    "word_b"
   ]
  },
  {
   "cell_type": "code",
   "execution_count": null,
   "metadata": {},
   "outputs": [],
   "source": [
    "set1 = [[2],[3],[4]]\n",
    "set2 = [ [set1[i][0]+j] for i in range(0,3) for j in range(0,3)]\n",
    "\n",
    "set2"
   ]
  },
  {
   "cell_type": "code",
   "execution_count": null,
   "metadata": {},
   "outputs": [],
   "source": [
    "set3 = [2,3,4,5]\n",
    "set4 = [[i+j for i in set3]for j in range(0,4)]\n",
    "\n",
    "set4"
   ]
  },
  {
   "cell_type": "code",
   "execution_count": null,
   "metadata": {},
   "outputs": [],
   "source": [
    "comprehension = [ (a,b) for a in range(1,4) for b in range(1,4)]\n",
    "comprehension"
   ]
  },
  {
   "cell_type": "markdown",
   "metadata": {},
   "source": [
    "question 3"
   ]
  },
  {
   "cell_type": "code",
   "execution_count": null,
   "metadata": {},
   "outputs": [],
   "source": [
    "import string\n",
    "\n",
    "def longest_word(sen):\n",
    "    for char in string.punctuation:\n",
    "        sen = sen.replace(char,' ')\n",
    "    text = sen.split()\n",
    "    text.sort(key = lambda x: len(x))\n",
    "    return text[-1]\n",
    "\n",
    "\n",
    "print (longest_word(input()))"
   ]
  },
  {
   "cell_type": "markdown",
   "metadata": {},
   "source": [
    "Task 2 question 1.1"
   ]
  },
  {
   "cell_type": "code",
   "execution_count": null,
   "metadata": {},
   "outputs": [],
   "source": [
    "a = int(input('enter the side a:'))\n",
    "b = int(input('enter the side b:'))\n",
    "c = int(input('enter the side c:'))\n",
    "\n",
    "class triangle():\n",
    "    def __init__(self,a,b,c):\n",
    "        self.a = a\n",
    "        self.b = b\n",
    "        self.c = c\n",
    "        \n",
    "    def area(self):\n",
    "        s = (a+b+c)/2\n",
    "        area = (s*(s-a)*(s-b)*(s-c))**0.5\n",
    "        return area\n",
    "\n",
    "x = triangle(a,b,c)\n",
    "print(x.area())\n"
   ]
  },
  {
   "cell_type": "markdown",
   "metadata": {},
   "source": [
    "question 1.2"
   ]
  },
  {
   "cell_type": "code",
   "execution_count": null,
   "metadata": {},
   "outputs": [],
   "source": [
    "def filter_long_words(words,n):\n",
    "    wordlist = []\n",
    "    for i in words:\n",
    "        if len(i)>=n:\n",
    "            wordlist.append(i)\n",
    "    return wordlist\n",
    "words = input('enter your words:')\n",
    "words_a = words.split()\n",
    "n = int(input('enter your number:'))\n",
    "long = filter_long_words(words_a,n)\n",
    "\n",
    "print('words at the given length are:',long)\n",
    "  "
   ]
  },
  {
   "cell_type": "markdown",
   "metadata": {},
   "source": [
    "question 2.1"
   ]
  },
  {
   "cell_type": "code",
   "execution_count": null,
   "metadata": {},
   "outputs": [],
   "source": [
    "s = input('enter your list:')\n",
    "list1 = list(map(len, s.split(',')))\n",
    "list1\n",
    "        "
   ]
  },
  {
   "cell_type": "markdown",
   "metadata": {},
   "source": [
    "question 2.2"
   ]
  },
  {
   "cell_type": "code",
   "execution_count": null,
   "metadata": {},
   "outputs": [],
   "source": [
    "letter = input('enter your alphabet:')\n",
    "def vowel_check(letter):\n",
    "    vowels = ('A','a','E','e','I','i','O','o','U','u')\n",
    "    if letter in vowels:\n",
    "        return True\n",
    "    else:\n",
    "        return False\n",
    "    \n",
    "vowel_check(letter)  "
   ]
  }
 ],
 "metadata": {
  "kernelspec": {
   "display_name": "Python 3",
   "language": "python",
   "name": "python3"
  },
  "language_info": {
   "codemirror_mode": {
    "name": "ipython",
    "version": 3
   },
   "file_extension": ".py",
   "mimetype": "text/x-python",
   "name": "python",
   "nbconvert_exporter": "python",
   "pygments_lexer": "ipython3",
   "version": "3.7.0"
  }
 },
 "nbformat": 4,
 "nbformat_minor": 2
}
