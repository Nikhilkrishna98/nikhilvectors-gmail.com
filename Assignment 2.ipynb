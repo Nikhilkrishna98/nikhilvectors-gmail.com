{
 "cells": [
  {
   "cell_type": "markdown",
   "metadata": {},
   "source": [
    "# Assignment 2"
   ]
  },
  {
   "cell_type": "markdown",
   "metadata": {},
   "source": [
    "Task 1 question 1"
   ]
  },
  {
   "cell_type": "code",
   "execution_count": 1,
   "metadata": {},
   "outputs": [],
   "source": [
    "def my_reduce(block):\n",
    "    total = 0\n",
    "    if len(block)>1:\n",
    "        for i in block:\n",
    "            total = total+i\n",
    "        return total    \n",
    "    \n",
    "    "
   ]
  },
  {
   "cell_type": "code",
   "execution_count": 2,
   "metadata": {},
   "outputs": [
    {
     "data": {
      "text/plain": [
       "404850"
      ]
     },
     "execution_count": 2,
     "metadata": {},
     "output_type": "execute_result"
    }
   ],
   "source": [
    "block1= list(range(1200,1500))\n",
    "block = my_reduce(block1)\n",
    "block"
   ]
  },
  {
   "cell_type": "markdown",
   "metadata": {},
   "source": [
    "question 1.2"
   ]
  },
  {
   "cell_type": "code",
   "execution_count": 3,
   "metadata": {},
   "outputs": [],
   "source": [
    "def negative(i):\n",
    "    if i <= 0:\n",
    "        return True\n",
    "    \n",
    "def my_filter(set1):    \n",
    "    negative_list = []\n",
    "    for i in set1:\n",
    "        set1 = negative(i)\n",
    "        if set1 == True:\n",
    "            negative_list.append(i)\n",
    "    return negative_list      "
   ]
  },
  {
   "cell_type": "code",
   "execution_count": 4,
   "metadata": {},
   "outputs": [
    {
     "data": {
      "text/plain": [
       "[-2, -8, 0, -1]"
      ]
     },
     "execution_count": 4,
     "metadata": {},
     "output_type": "execute_result"
    }
   ],
   "source": [
    "set1 =[]\n",
    "set2 = [-2,5,-8,0,-1,2,7]\n",
    "set1 = my_filter(set2)\n",
    "set1"
   ]
  },
  {
   "cell_type": "markdown",
   "metadata": {},
   "source": [
    "question 2 list comprehension"
   ]
  },
  {
   "cell_type": "code",
   "execution_count": 5,
   "metadata": {},
   "outputs": [
    {
     "data": {
      "text/plain": [
       "['A', 'C', 'A', 'D', 'G', 'I', 'L', 'D']"
      ]
     },
     "execution_count": 5,
     "metadata": {},
     "output_type": "execute_result"
    }
   ],
   "source": [
    "word = 'ACADGILD'\n",
    "redum = [char for char in word]\n",
    "\n",
    "redum"
   ]
  },
  {
   "cell_type": "code",
   "execution_count": 6,
   "metadata": {},
   "outputs": [
    {
     "data": {
      "text/plain": [
       "['x', 'xx', 'xxx', 'xxxx', 'y', 'yy', 'yyy', 'yyyy', 'z', 'zz', 'zzz', 'zzzz']"
      ]
     },
     "execution_count": 6,
     "metadata": {},
     "output_type": "execute_result"
    }
   ],
   "source": [
    "load_lst = 'xyz'\n",
    "\n",
    "blunt = [char*n for char in load_lst for n in range(1,5)]\n",
    "blunt"
   ]
  },
  {
   "cell_type": "code",
   "execution_count": 7,
   "metadata": {},
   "outputs": [
    {
     "data": {
      "text/plain": [
       "['x', 'y', 'z', 'xx', 'yy', 'zz', 'xxx', 'yyy', 'zzz', 'xxxx', 'yyyy', 'zzzz']"
      ]
     },
     "execution_count": 7,
     "metadata": {},
     "output_type": "execute_result"
    }
   ],
   "source": [
    "word_a = 'xyz'\n",
    "\n",
    "word_b = [n*1 for n in word_a]+[n*2 for n in word_a]+[n*3 for n in word_a]+[n*4 for n in word_a]\n",
    "word_b"
   ]
  },
  {
   "cell_type": "code",
   "execution_count": 8,
   "metadata": {},
   "outputs": [
    {
     "data": {
      "text/plain": [
       "[[2], [3], [4], [3], [4], [5], [4], [5], [6]]"
      ]
     },
     "execution_count": 8,
     "metadata": {},
     "output_type": "execute_result"
    }
   ],
   "source": [
    "set1 = [[2],[3],[4]]\n",
    "set2 = [ [set1[i][0]+j] for i in range(0,3) for j in range(0,3)]\n",
    "\n",
    "set2"
   ]
  },
  {
   "cell_type": "code",
   "execution_count": 9,
   "metadata": {},
   "outputs": [
    {
     "data": {
      "text/plain": [
       "[[2, 3, 4, 5], [3, 4, 5, 6], [4, 5, 6, 7], [5, 6, 7, 8]]"
      ]
     },
     "execution_count": 9,
     "metadata": {},
     "output_type": "execute_result"
    }
   ],
   "source": [
    "set3 = [2,3,4,5]\n",
    "set4 = [[i+j for i in set3]for j in range(0,4)]\n",
    "\n",
    "set4"
   ]
  },
  {
   "cell_type": "code",
   "execution_count": 10,
   "metadata": {},
   "outputs": [
    {
     "data": {
      "text/plain": [
       "[(1, 1), (1, 2), (1, 3), (2, 1), (2, 2), (2, 3), (3, 1), (3, 2), (3, 3)]"
      ]
     },
     "execution_count": 10,
     "metadata": {},
     "output_type": "execute_result"
    }
   ],
   "source": [
    "comprehension = [ (a,b) for a in range(1,4) for b in range(1,4)]\n",
    "comprehension"
   ]
  },
  {
   "cell_type": "markdown",
   "metadata": {},
   "source": [
    "question 3"
   ]
  },
  {
   "cell_type": "code",
   "execution_count": 12,
   "metadata": {},
   "outputs": [
    {
     "name": "stdout",
     "output_type": "stream",
     "text": [
      "hi this is a student\n",
      "student\n"
     ]
    }
   ],
   "source": [
    "import string\n",
    "\n",
    "def longest_word(sen):\n",
    "    for char in string.punctuation:\n",
    "        sen = sen.replace(char,' ')\n",
    "    text = sen.split()\n",
    "    text.sort(key = lambda x: len(x))\n",
    "    return text[-1]\n",
    "\n",
    "\n",
    "print (longest_word(input()))"
   ]
  },
  {
   "cell_type": "markdown",
   "metadata": {},
   "source": [
    "Task 2 question 1.1"
   ]
  },
  {
   "cell_type": "code",
   "execution_count": 14,
   "metadata": {},
   "outputs": [
    {
     "name": "stdout",
     "output_type": "stream",
     "text": [
      "enter the side a:3\n",
      "enter the side b:4\n",
      "enter the side c:6\n",
      "5.332682251925386\n"
     ]
    }
   ],
   "source": [
    "a = int(input('enter the side a:'))\n",
    "b = int(input('enter the side b:'))\n",
    "c = int(input('enter the side c:'))\n",
    "\n",
    "class triangle():\n",
    "    def __init__(self,a,b,c):\n",
    "        self.a = a\n",
    "        self.b = b\n",
    "        self.c = c\n",
    "        \n",
    "    def area(self):\n",
    "        s = (a+b+c)/2\n",
    "        area = (s*(s-a)*(s-b)*(s-c))**0.5\n",
    "        return area\n",
    "\n",
    "x = triangle(a,b,c)\n",
    "print(x.area())\n"
   ]
  },
  {
   "cell_type": "markdown",
   "metadata": {},
   "source": [
    "question 1.2"
   ]
  },
  {
   "cell_type": "code",
   "execution_count": 15,
   "metadata": {},
   "outputs": [
    {
     "name": "stdout",
     "output_type": "stream",
     "text": [
      "enter your words:hi this is a student\n",
      "enter your number:5\n",
      "words at the given length are: ['student']\n"
     ]
    }
   ],
   "source": [
    "def filter_long_words(words,n):\n",
    "    wordlist = []\n",
    "    for i in words:\n",
    "        if len(i)>=n:\n",
    "            wordlist.append(i)\n",
    "    return wordlist\n",
    "words = input('enter your words:')\n",
    "words_a = words.split()\n",
    "n = int(input('enter your number:'))\n",
    "long = filter_long_words(words_a,n)\n",
    "\n",
    "print('words at the given length are:',long)\n",
    "  "
   ]
  },
  {
   "cell_type": "markdown",
   "metadata": {},
   "source": [
    "question 2.1"
   ]
  },
  {
   "cell_type": "code",
   "execution_count": 16,
   "metadata": {},
   "outputs": [
    {
     "name": "stdout",
     "output_type": "stream",
     "text": [
      "enter your list:google,facebook,amazon\n"
     ]
    },
    {
     "data": {
      "text/plain": [
       "[6, 8, 6]"
      ]
     },
     "execution_count": 16,
     "metadata": {},
     "output_type": "execute_result"
    }
   ],
   "source": [
    "s = input('enter your list:')\n",
    "list1 = list(map(len, s.split(',')))\n",
    "list1\n",
    "        "
   ]
  },
  {
   "cell_type": "markdown",
   "metadata": {},
   "source": [
    "question 2.2"
   ]
  },
  {
   "cell_type": "code",
   "execution_count": 17,
   "metadata": {},
   "outputs": [
    {
     "name": "stdout",
     "output_type": "stream",
     "text": [
      "enter your alphabet:b\n"
     ]
    },
    {
     "data": {
      "text/plain": [
       "False"
      ]
     },
     "execution_count": 17,
     "metadata": {},
     "output_type": "execute_result"
    }
   ],
   "source": [
    "letter = input('enter your alphabet:')\n",
    "def vowel_check(letter):\n",
    "    vowels = ('A','a','E','e','I','i','O','o','U','u')\n",
    "    if letter in vowels:\n",
    "        return True\n",
    "    else:\n",
    "        return False\n",
    "    \n",
    "vowel_check(letter)  "
   ]
  }
 ],
 "metadata": {
  "kernelspec": {
   "display_name": "Python 3",
   "language": "python",
   "name": "python3"
  },
  "language_info": {
   "codemirror_mode": {
    "name": "ipython",
    "version": 3
   },
   "file_extension": ".py",
   "mimetype": "text/x-python",
   "name": "python",
   "nbconvert_exporter": "python",
   "pygments_lexer": "ipython3",
   "version": "3.7.0"
  }
 },
 "nbformat": 4,
 "nbformat_minor": 2
}
